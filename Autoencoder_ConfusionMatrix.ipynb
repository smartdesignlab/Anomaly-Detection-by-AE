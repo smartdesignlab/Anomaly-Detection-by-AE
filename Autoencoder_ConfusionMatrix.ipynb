{
  "nbformat": 4,
  "nbformat_minor": 0,
  "metadata": {
    "kernelspec": {
      "display_name": "Python 3",
      "language": "python",
      "name": "python3"
    },
    "language_info": {
      "codemirror_mode": {
        "name": "ipython",
        "version": 3
      },
      "file_extension": ".py",
      "mimetype": "text/x-python",
      "name": "python",
      "nbconvert_exporter": "python",
      "pygments_lexer": "ipython3",
      "version": "3.7.3"
    },
    "colab": {
      "name": "Autoencoder_ConfusionMatrix.ipynb",
      "provenance": []
    }
  },
  "cells": [
    {
      "cell_type": "markdown",
      "metadata": {
        "id": "9SPhP2u6-yN9",
        "colab_type": "text"
      },
      "source": [
        "# AE를 이용한 이상치검출 (Anomaly Detection)\n",
        "\n",
        "## 1. 라이브러리 임포트"
      ]
    },
    {
      "cell_type": "code",
      "metadata": {
        "id": "ysM35MiL-yOA",
        "colab_type": "code",
        "colab": {
          "base_uri": "https://localhost:8080/",
          "height": 606
        },
        "outputId": "0ce45cdd-f0fe-4435-cfa9-cb8517385dad"
      },
      "source": [
        "#텐서플로, numpy, matplotlib의 라이브러리 임포트\n",
        "import tensorflow as tf\n",
        "import numpy as np\n",
        "import matplotlib.pyplot as plt\n",
        "\n",
        "#MNIST 모듈 임포트\n",
        "from tensorflow.examples.tutorials.mnist import input_data\n",
        "mnist = input_data.read_data_sets(\"MNIST_data/\", one_hot=True)"
      ],
      "execution_count": 1,
      "outputs": [
        {
          "output_type": "display_data",
          "data": {
            "text/html": [
              "<p style=\"color: red;\">\n",
              "The default version of TensorFlow in Colab will soon switch to TensorFlow 2.x.<br>\n",
              "We recommend you <a href=\"https://www.tensorflow.org/guide/migrate\" target=\"_blank\">upgrade</a> now \n",
              "or ensure your notebook will continue to use TensorFlow 1.x via the <code>%tensorflow_version 1.x</code> magic:\n",
              "<a href=\"https://colab.research.google.com/notebooks/tensorflow_version.ipynb\" target=\"_blank\">more info</a>.</p>\n"
            ],
            "text/plain": [
              "<IPython.core.display.HTML object>"
            ]
          },
          "metadata": {
            "tags": []
          }
        },
        {
          "output_type": "stream",
          "text": [
            "WARNING:tensorflow:From <ipython-input-1-2e90d6365d3a>:7: read_data_sets (from tensorflow.contrib.learn.python.learn.datasets.mnist) is deprecated and will be removed in a future version.\n",
            "Instructions for updating:\n",
            "Please use alternatives such as official/mnist/dataset.py from tensorflow/models.\n",
            "WARNING:tensorflow:From /usr/local/lib/python3.6/dist-packages/tensorflow_core/contrib/learn/python/learn/datasets/mnist.py:260: maybe_download (from tensorflow.contrib.learn.python.learn.datasets.base) is deprecated and will be removed in a future version.\n",
            "Instructions for updating:\n",
            "Please write your own downloading logic.\n",
            "WARNING:tensorflow:From /usr/local/lib/python3.6/dist-packages/tensorflow_core/contrib/learn/python/learn/datasets/base.py:252: _internal_retry.<locals>.wrap.<locals>.wrapped_fn (from tensorflow.contrib.learn.python.learn.datasets.base) is deprecated and will be removed in a future version.\n",
            "Instructions for updating:\n",
            "Please use urllib or similar directly.\n",
            "Successfully downloaded train-images-idx3-ubyte.gz 9912422 bytes.\n",
            "WARNING:tensorflow:From /usr/local/lib/python3.6/dist-packages/tensorflow_core/contrib/learn/python/learn/datasets/mnist.py:262: extract_images (from tensorflow.contrib.learn.python.learn.datasets.mnist) is deprecated and will be removed in a future version.\n",
            "Instructions for updating:\n",
            "Please use tf.data to implement this functionality.\n",
            "Extracting MNIST_data/train-images-idx3-ubyte.gz\n",
            "Successfully downloaded train-labels-idx1-ubyte.gz 28881 bytes.\n",
            "WARNING:tensorflow:From /usr/local/lib/python3.6/dist-packages/tensorflow_core/contrib/learn/python/learn/datasets/mnist.py:267: extract_labels (from tensorflow.contrib.learn.python.learn.datasets.mnist) is deprecated and will be removed in a future version.\n",
            "Instructions for updating:\n",
            "Please use tf.data to implement this functionality.\n",
            "Extracting MNIST_data/train-labels-idx1-ubyte.gz\n",
            "WARNING:tensorflow:From /usr/local/lib/python3.6/dist-packages/tensorflow_core/contrib/learn/python/learn/datasets/mnist.py:110: dense_to_one_hot (from tensorflow.contrib.learn.python.learn.datasets.mnist) is deprecated and will be removed in a future version.\n",
            "Instructions for updating:\n",
            "Please use tf.one_hot on tensors.\n",
            "Successfully downloaded t10k-images-idx3-ubyte.gz 1648877 bytes.\n",
            "Extracting MNIST_data/t10k-images-idx3-ubyte.gz\n",
            "Successfully downloaded t10k-labels-idx1-ubyte.gz 4542 bytes.\n",
            "Extracting MNIST_data/t10k-labels-idx1-ubyte.gz\n",
            "WARNING:tensorflow:From /usr/local/lib/python3.6/dist-packages/tensorflow_core/contrib/learn/python/learn/datasets/mnist.py:290: DataSet.__init__ (from tensorflow.contrib.learn.python.learn.datasets.mnist) is deprecated and will be removed in a future version.\n",
            "Instructions for updating:\n",
            "Please use alternatives such as official/mnist/dataset.py from tensorflow/models.\n"
          ],
          "name": "stdout"
        }
      ]
    },
    {
      "cell_type": "markdown",
      "metadata": {
        "id": "V8fmT2qQ-yOF",
        "colab_type": "text"
      },
      "source": [
        "## 2. Mnist train/test 분류\n",
        "Mnist는 원래 2가지 파일로 구성되어 있음\n",
        "  1. mnist.train : 0~9까지 60,000개 이미지 \n",
        "  2. mnist.test  : 0~9까지 10,000개 이미지\n",
        "\n",
        "## ■ 테스트 이미지 파일 생성\n",
        "1. mnist.train  \n",
        " 1) train_idx  - trian 이미지 중 1~9의 숫자 그림으로 구성 : 오토인코더 학습 & 임계치 결정  \n",
        " 2) train0_idx - train 이미지 중 0인 숫자 그림으로 구성 : 임계치 결정 \n",
        "2. mnist.test  \n",
        " 1) test19_idx - test 이미지 중 1~9의 숫자 그림으로 구성 : test 데이터  \n",
        " 2) test0_idx  - test 이미지 중 0인 숫자 그림으로 구성 : test 데이터"
      ]
    },
    {
      "cell_type": "code",
      "metadata": {
        "id": "RQjzTKy5-yOG",
        "colab_type": "code",
        "colab": {
          "base_uri": "https://localhost:8080/",
          "height": 89
        },
        "outputId": "21b4e700-170e-4b02-aa79-00d11be2f0d2"
      },
      "source": [
        "# np.argmax : 배열중에 가장 큰 수를 뽑아냄, labels에서 숫자 확인 가능\n",
        "# 예시) lables가 [0,0,1,0,0,0,0,0,0,0] 이면 2로 값이 나오게 됨\n",
        "train_idx = ((np.argmax(mnist.train.labels, 1) == 1) | \\\n",
        "             (np.argmax(mnist.train.labels, 1) == 2) | \\\n",
        "             (np.argmax(mnist.train.labels, 1) == 3) | \\\n",
        "             (np.argmax(mnist.train.labels, 1) == 4) | \\\n",
        "             (np.argmax(mnist.train.labels, 1) == 5) | \\\n",
        "             (np.argmax(mnist.train.labels, 1) == 6) | \\\n",
        "             (np.argmax(mnist.train.labels, 1) == 7) | \\\n",
        "             (np.argmax(mnist.train.labels, 1) == 8) | \\\n",
        "             (np.argmax(mnist.train.labels, 1) == 9))\n",
        "train0_idx = (np.argmax(mnist.train.labels, 1) == 0)\n",
        "\n",
        "#test_set 정리\n",
        "test19_idx = ((np.argmax(mnist.test.labels, 1) == 1) | \\\n",
        "              (np.argmax(mnist.test.labels, 1) == 2) | \\\n",
        "              (np.argmax(mnist.test.labels, 1) == 3) | \\\n",
        "              (np.argmax(mnist.test.labels, 1) == 4) | \\\n",
        "              (np.argmax(mnist.test.labels, 1) == 5) | \\\n",
        "              (np.argmax(mnist.test.labels, 1) == 6) | \\\n",
        "              (np.argmax(mnist.test.labels, 1) == 7) | \\\n",
        "              (np.argmax(mnist.test.labels, 1) == 8) | \\\n",
        "              (np.argmax(mnist.test.labels, 1) == 9))\n",
        "test0_idx = (np.argmax(mnist.test.labels, 1) == 0)\n",
        "\n",
        "\n",
        "train_imgs    = mnist.train.images[train_idx] # 1~9까지 train 이미지 추출\n",
        "train_labels  = mnist.train.labels[train_idx] # 1~9까지 train 라벨 추출\n",
        "train0_imgs   = mnist.train.images[train0_idx] # 0만 train 이미지 추출\n",
        "train0_labels = mnist.train.labels[train0_idx] # 0만 train 라벨 추출\n",
        "test19_imgs   = mnist.test.images[test19_idx] # 1~9까지 test 이미지 추출\n",
        "test19_labels = mnist.test.labels[test19_idx] # 1~9까지 test 라벨 추출\n",
        "test0_imgs    = mnist.test.images[test0_idx] # 0만 test 이미지 추출\n",
        "test0_labels  = mnist.test.labels[test0_idx] # 0만 test 라벨 추출\n",
        "n_train       = train_imgs.shape[0] # 1~9까지 train 이미지 shape 변경\n",
        "n_train0      = train0_imgs.shape[0] # 0만 train 이미지 shape 변경\n",
        "n_test19      = test19_imgs.shape[0] # 1~9까지 test 이미지 shape 변경\n",
        "n_test0       = test0_imgs.shape[0] # 0만 test 이미지 shape 변경\n",
        "\n",
        "print (\"The number of training(1~9) images : {}, shape : {}\".format(n_train, train_imgs.shape))\n",
        "print (\"The number of training(0) images : {}, shape : {}\".format(n_train0, train0_imgs.shape))\n",
        "print (\"The number of testing(1~9) images() : {}, shape : {}\".format(n_test19, test19_imgs.shape))\n",
        "print (\"The number of testing(0) images : {}, shape : {}\".format(n_test0, test0_imgs.shape))"
      ],
      "execution_count": 2,
      "outputs": [
        {
          "output_type": "stream",
          "text": [
            "The number of training(1~9) images : 49556, shape : (49556, 784)\n",
            "The number of training(0) images : 5444, shape : (5444, 784)\n",
            "The number of testing(1~9) images() : 9020, shape : (9020, 784)\n",
            "The number of testing(0) images : 980, shape : (980, 784)\n"
          ],
          "name": "stdout"
        }
      ]
    },
    {
      "cell_type": "markdown",
      "metadata": {
        "id": "qSgcFg8I-yOI",
        "colab_type": "text"
      },
      "source": [
        "## 3. 옵션설정"
      ]
    },
    {
      "cell_type": "code",
      "metadata": {
        "id": "xU6hr0EZ-yOJ",
        "colab_type": "code",
        "colab": {}
      },
      "source": [
        "learning_rate = 0.01 #최적화 함수에서 사용할 학습률\n",
        "training_epoch = 20  #전체 데이터를 학습할 총 횟수\n",
        "batch_size = 100     #미니배치로 한번에 학습할 데이터(이미지)의 갯수\n",
        "n_hidden = 256       #은닉층의 뉴런 개수\n",
        "n_input = 28*28      #이미지 크기 28*28 = 784"
      ],
      "execution_count": 0,
      "outputs": []
    },
    {
      "cell_type": "markdown",
      "metadata": {
        "id": "vqxypCRW-yOL",
        "colab_type": "text"
      },
      "source": [
        "## 4. 모델구성"
      ]
    },
    {
      "cell_type": "code",
      "metadata": {
        "id": "B1Rj4f89-yOM",
        "colab_type": "code",
        "colab": {}
      },
      "source": [
        "# X라는 플레이스 홀더를 설정\n",
        "X = tf.placeholder(tf.float32, [None, n_input])\n",
        "\n",
        "# ENCODER 인코더, n_hidden개의 뉴런을 가진 은닉층 만듬\n",
        "W_encode = tf.Variable(tf.random_normal([n_input, n_hidden]))  #n_hidden개의 뉴런을 가진 은닉층 만듬\n",
        "b_encode = tf.Variable(tf.random_normal([n_hidden])) \n",
        "encoder = tf.nn.sigmoid(tf.add(tf.matmul(X,W_encode),b_encode)) #sigmoid 활성화 함수 적용\n",
        "\n",
        "# DECODER 디코더 (n_input과 n_hidden을 인코더와 반대로 입력)\n",
        "W_decode = tf.Variable(tf.random_normal([n_hidden, n_input]))\n",
        "b_decode = tf.Variable(tf.random_normal([n_input]))\n",
        "decoder = tf.nn.sigmoid(tf.add(tf.matmul(encoder,W_decode),b_decode))"
      ],
      "execution_count": 0,
      "outputs": []
    },
    {
      "cell_type": "markdown",
      "metadata": {
        "id": "k9VC3ogE-yOO",
        "colab_type": "text"
      },
      "source": [
        "## 5. 모델학습\n",
        "### 손실함수\n",
        "입력값과 출력값의 차이를 최소화함 (복원 오차 최소화)\n",
        "\n",
        "\\begin{align}\n",
        "\\frac{1}{m}\\sum_i^m{(x_i-y_i)}^2\n",
        "\\end{align}"
      ]
    },
    {
      "cell_type": "code",
      "metadata": {
        "id": "S4sztxy_-yOO",
        "colab_type": "code",
        "colab": {
          "base_uri": "https://localhost:8080/",
          "height": 503
        },
        "outputId": "f248e91a-db09-47dd-dda4-78d6912f3c29"
      },
      "source": [
        "#손실함수(두 값의 거리차이) = X(평가하기 위한 실측값) - 디코더의 결과값\n",
        "cost = tf.reduce_mean(tf.pow(X-decoder,2))\n",
        "\n",
        "#최적화 함수 RMSPropOptimizer로 cost를 최소화 함\n",
        "optimizer = tf.train.RMSPropOptimizer(learning_rate).minimize(cost)\n",
        "\n",
        "#train(1~9)에 해당하는 그림만을 가지고 batch할 수 있는 함수 생성\n",
        "def train_batch_maker(batch_size):\n",
        "     random_idx = np.random.randint(n_train, size = batch_size)\n",
        "     return train_imgs[random_idx], train_labels[random_idx]\n",
        "\n",
        "#학습진행\n",
        "init = tf.global_variables_initializer() #변수 초기화\n",
        "sess = tf.Session() # Session 오픈\n",
        "sess.run(init) # 텐서플로우로 변수들 초기화 완료(학습 진행 준비 완료)\n",
        "\n",
        "total_batch = int(n_train/batch_size) #배치 갯수\n",
        "\n",
        "for epoch in range(training_epoch): \n",
        "    total_cost = 0\n",
        "    \n",
        "    for i in range(total_batch):\n",
        "        batch_xs, batch_ys = train_batch_maker(batch_size)\n",
        "        _, cost_val = sess.run([optimizer, cost], feed_dict={X:batch_xs})\n",
        "        total_cost += cost_val\n",
        "        \n",
        "    print('Epoct:', '%04d' % (epoch + 1), 'Avg. cost = ', '{:.4f}'.format(total_cost/total_batch))\n",
        "\n",
        "print('최적화 완료!')\n"
      ],
      "execution_count": 5,
      "outputs": [
        {
          "output_type": "stream",
          "text": [
            "WARNING:tensorflow:From /usr/local/lib/python3.6/dist-packages/tensorflow_core/python/ops/math_grad.py:1375: where (from tensorflow.python.ops.array_ops) is deprecated and will be removed in a future version.\n",
            "Instructions for updating:\n",
            "Use tf.where in 2.0, which has the same broadcast rule as np.where\n",
            "WARNING:tensorflow:From /usr/local/lib/python3.6/dist-packages/tensorflow_core/python/training/rmsprop.py:119: calling Ones.__init__ (from tensorflow.python.ops.init_ops) with dtype is deprecated and will be removed in a future version.\n",
            "Instructions for updating:\n",
            "Call initializer instance with the dtype argument instead of passing it to the constructor\n",
            "Epoct: 0001 Avg. cost =  0.2106\n",
            "Epoct: 0002 Avg. cost =  0.0648\n",
            "Epoct: 0003 Avg. cost =  0.0543\n",
            "Epoct: 0004 Avg. cost =  0.0489\n",
            "Epoct: 0005 Avg. cost =  0.0457\n",
            "Epoct: 0006 Avg. cost =  0.0431\n",
            "Epoct: 0007 Avg. cost =  0.0413\n",
            "Epoct: 0008 Avg. cost =  0.0382\n",
            "Epoct: 0009 Avg. cost =  0.0367\n",
            "Epoct: 0010 Avg. cost =  0.0354\n",
            "Epoct: 0011 Avg. cost =  0.0345\n",
            "Epoct: 0012 Avg. cost =  0.0340\n",
            "Epoct: 0013 Avg. cost =  0.0338\n",
            "Epoct: 0014 Avg. cost =  0.0333\n",
            "Epoct: 0015 Avg. cost =  0.0319\n",
            "Epoct: 0016 Avg. cost =  0.0317\n",
            "Epoct: 0017 Avg. cost =  0.0316\n",
            "Epoct: 0018 Avg. cost =  0.0313\n",
            "Epoct: 0019 Avg. cost =  0.0312\n",
            "Epoct: 0020 Avg. cost =  0.0312\n",
            "최적화 완료!\n"
          ],
          "name": "stdout"
        }
      ]
    },
    {
      "cell_type": "markdown",
      "metadata": {
        "id": "YiesQpH7-yOQ",
        "colab_type": "text"
      },
      "source": [
        "## 6.1 Normal data 복원 확인 (Testing data)"
      ]
    },
    {
      "cell_type": "code",
      "metadata": {
        "id": "VNw1_iXr-yOR",
        "colab_type": "code",
        "colab": {
          "base_uri": "https://localhost:8080/",
          "height": 155
        },
        "outputId": "63a6609e-4c14-4980-9a0d-30770feb9c8c"
      },
      "source": [
        "sample_size = 10 #샘플로 볼 이미지 갯수 지정\n",
        "\n",
        "# 텐서플로우로 test 이미지(1~9)까지 DECODER로 학습진행\n",
        "samples19 = sess.run(decoder, feed_dict={X:test19_imgs[:sample_size]}) \n",
        "print('Normal Testing data cost = ', '{:.4f}'.format(sess.run(cost, feed_dict={X:test19_imgs[:sample_size]})))\n",
        "\n",
        "fig, ax = plt.subplots(2, sample_size, figsize=(sample_size, 2))\n",
        "\n",
        "for i in range(sample_size):\n",
        "    ax[0][i].set_axis_off()\n",
        "    ax[1][i].set_axis_off()\n",
        "    ax[0][i].imshow(np.reshape(test19_imgs[i], (28,28)))\n",
        "    ax[1][i].imshow(np.reshape(samples19[i], (28,28)))\n",
        "\n",
        "plt.show()"
      ],
      "execution_count": 7,
      "outputs": [
        {
          "output_type": "stream",
          "text": [
            "Normal Testing data cost =  0.0318\n"
          ],
          "name": "stdout"
        },
        {
          "output_type": "display_data",
          "data": {
            "image/png": "[encoded data removed]",
            "text/plain": [
              "<Figure size 720x144 with 20 Axes>"
            ]
          },
          "metadata": {
            "tags": []
          }
        }
      ]
    },
    {
      "cell_type": "markdown",
      "metadata": {
        "id": "XTyT_yoQ-yOT",
        "colab_type": "text"
      },
      "source": [
        "## 6.2 Abnormal data 복원 확인 (Testing data)"
      ]
    },
    {
      "cell_type": "code",
      "metadata": {
        "id": "J3j9ImbP-yOT",
        "colab_type": "code",
        "colab": {
          "base_uri": "https://localhost:8080/",
          "height": 155
        },
        "outputId": "f5dbe423-2dc9-4c27-f7bb-c4ce8c6b66f9"
      },
      "source": [
        "sample_size = 10 #샘플로 볼 이미지 갯수 지정\n",
        "\n",
        "# 텐서플로우로 test이미지(0만)까지 DECODER로 학습진행\n",
        "samples0 = sess.run(decoder, feed_dict={X:test0_imgs[:sample_size]})\n",
        "print('Abnormal Testing data cost = ', '{:.4f}'.format(sess.run(cost, feed_dict={X:test0_imgs[:sample_size]})))\n",
        "\n",
        "fig, ax = plt.subplots(2, sample_size, figsize=(sample_size, 2))\n",
        "\n",
        "for i in range(sample_size):\n",
        "    ax[0][i].set_axis_off()\n",
        "    ax[1][i].set_axis_off()\n",
        "    ax[0][i].imshow(np.reshape(test0_imgs[i], (28,28))) \n",
        "    ax[1][i].imshow(np.reshape(samples0[i], (28,28)))\n",
        "\n",
        "plt.show()"
      ],
      "execution_count": 9,
      "outputs": [
        {
          "output_type": "stream",
          "text": [
            "Abnormal Testing data cost =  0.0454\n"
          ],
          "name": "stdout"
        },
        {
          "output_type": "display_data",
          "data": {
            "image/png": "[encoded data removed]",
            "text/plain": [
              "<Figure size 720x144 with 20 Axes>"
            ]
          },
          "metadata": {
            "tags": []
          }
        }
      ]
    },
    {
      "cell_type": "markdown",
      "metadata": {
        "id": "H6WNyE_j-yOV",
        "colab_type": "text"
      },
      "source": [
        "## 7. Confusion Matrix(오차행렬)\n",
        "### 참이라고 간주되는 관측값과 평가를 위해 추출된 샘플간의 비교를 위한 행렬\n",
        "### 참고 : https://en.wikipedia.org/wiki/Confusion_matrix\n",
        "### 참고 : https://www.dataschool.io/simple-guide-to-confusion-matrix-terminology/"
      ]
    },
    {
      "cell_type": "markdown",
      "metadata": {
        "id": "q5ekPwon-yOW",
        "colab_type": "text"
      },
      "source": [
        "## 7.1 Test data의 실제값(y_true) 라벨링하기\n",
        "### 이미지별 라벨값이 0이면 Anomaly인 0의 값, 라벨값이 1~9면 normal인 1의 값을 입력"
      ]
    },
    {
      "cell_type": "code",
      "metadata": {
        "id": "XPHqA7HR-yOW",
        "colab_type": "code",
        "colab": {
          "base_uri": "https://localhost:8080/",
          "height": 55
        },
        "outputId": "81dcb06d-b295-4d09-98f9-90f5605c21c1"
      },
      "source": [
        "all_size = int(len(mnist.test.labels)*0.1) #test 전체 갯수 : 10,000개 중 10%만 사용\n",
        "\n",
        "y_true = [] #y_true list 초기화 \n",
        "\n",
        "for i in range(all_size): # 1~10,000까지 반복함\n",
        "    if np.argmax(mnist.test.labels[i]) == 0: #라벨값이 0인지 아닌지 확인하는 조건문\n",
        "        y_true.insert(i, 0) #라벨값이 0이면 Anomaly\n",
        "    else:\n",
        "        y_true.insert(i, 1) #라벨값이 0이 아니면 normal (1~9까지는 1로)\n",
        "\n",
        "print(y_true[0:100]) #프린트로 값을 확인할 수 있다 (확인용으로 100개만)."
      ],
      "execution_count": 10,
      "outputs": [
        {
          "output_type": "stream",
          "text": [
            "[1, 1, 1, 0, 1, 1, 1, 1, 1, 1, 0, 1, 1, 0, 1, 1, 1, 1, 1, 1, 1, 1, 1, 1, 1, 0, 1, 1, 0, 1, 1, 1, 1, 1, 1, 1, 1, 1, 1, 1, 1, 1, 1, 1, 1, 1, 1, 1, 1, 1, 1, 1, 1, 1, 1, 0, 1, 1, 1, 1, 1, 1, 1, 1, 1, 1, 1, 1, 1, 0, 1, 0, 1, 1, 1, 1, 1, 1, 1, 1, 1, 1, 1, 1, 1, 1, 1, 1, 1, 1, 1, 1, 1, 1, 1, 1, 1, 1, 1, 1]\n"
          ],
          "name": "stdout"
        }
      ]
    },
    {
      "cell_type": "markdown",
      "metadata": {
        "id": "Z2Nc6wI4-yOY",
        "colab_type": "text"
      },
      "source": [
        "## 7.2 Test data의 예측값(y_pred) 구하기 (AE 통과하기)"
      ]
    },
    {
      "cell_type": "markdown",
      "metadata": {
        "id": "6OvBNkaA-yOZ",
        "colab_type": "text"
      },
      "source": [
        "### cost의 측정지표(통계값)\n",
        "train 1~9까지의 이미지 데이터의 Cost값과  \n",
        "train 0의 이미지 데이터의 Cost 값을 비교하여 임계값을 설정한다.  \n",
        "※ 연구 주제에 따라 임계값 설정 방법은 변경 될 수 있음"
      ]
    },
    {
      "cell_type": "code",
      "metadata": {
        "id": "TA8RSjHV-yOZ",
        "colab_type": "code",
        "colab": {}
      },
      "source": [
        "import pandas as pd #판다스 라이브러리 임포트\n",
        "import random #random 함수 관련 라이브러리 임포트\n",
        "\n",
        "train_size = int(len(train_imgs)*0.1) # train 1~9까지 이미지 갯수 : 49556 중에 10%만 확인\n",
        "train0_size = int(len(train0_imgs)*0.1) # train 0의 이미지 갯수 : 5444 중에 10%만 확인\n",
        "\n",
        "train_cost=[] # 초기화\n",
        "for i in range (train_size): # train 1~9까지의 Cost 값 계산\n",
        "    ind_cost = tf.reduce_mean(tf.pow(X[i]-decoder[i],2))\n",
        "    train_cost.append(ind_cost)\n",
        "    \n",
        "train0_cost=[] # 초기화 \n",
        "for i in range (train0_size): # train 0의 Cost 값 계산\n",
        "    ind_cost = tf.reduce_mean(tf.pow(X[i]-decoder[i],2))\n",
        "    train0_cost.append(ind_cost)\n",
        "\n"
      ],
      "execution_count": 0,
      "outputs": []
    },
    {
      "cell_type": "markdown",
      "metadata": {
        "id": "ZHQX24QR-yOb",
        "colab_type": "text"
      },
      "source": [
        "### Histogram 그려보기"
      ]
    },
    {
      "cell_type": "code",
      "metadata": {
        "id": "rPAB5dKZ-yOc",
        "colab_type": "code",
        "colab": {
          "base_uri": "https://localhost:8080/",
          "height": 785
        },
        "outputId": "47a9a145-956d-4e45-e9d3-e4115fe36b5c"
      },
      "source": [
        "def test_median(): #통계지표 구하는 함수 생성\n",
        "    cost19 = sess.run(train_cost, feed_dict={X:train_imgs})   # 텐서플로우 실행하여 train 1~9까지의 Cost값 계산하기\n",
        "    cost0  = sess.run(train0_cost, feed_dict={X:train0_imgs}) # 텐서플로우 실행하여 train 0의 Cost값 계산하기\n",
        "    \n",
        "    median19 = np.median(cost19) #중앙값 구하는 함수\n",
        "    print('train19_median :', '{:.4f}'.format(median19)) \n",
        "    median0 = np.median(cost0) #중앙값 구하는 함수\n",
        "    print('train0_median :', '{:.4f}'.format(median0)) \n",
        "    \n",
        "    print('\\n')\n",
        "    print('Train19_Cost Metric')\n",
        "    cost19_df = pd.DataFrame({'Train19_Cost':cost19}) #기초통계학 평균, 분산, 최소값, 최대값, 25%, 50%, 75% 분포 구하는 함수\n",
        "    print(cost19_df.describe())\n",
        "    \n",
        "    print('\\n')\n",
        "    print('Train0_Cost Metric')\n",
        "    cost0_df = pd.DataFrame({'Train0_Cost':cost0}) #기초통계학 평균, 분산, 최소값, 최대값, 25%, 50%, 75% 분포 구하는 함수\n",
        "    print(cost0_df.describe())\n",
        "    \n",
        "    print('\\n')\n",
        "    plt.figure()\n",
        "    plt.title('Cost Histogram') # 그림 이름 설정 \n",
        "    rd_cost19 = random.sample(cost19, train0_size) # train 1~9의 Cost 중 train 0과 같은 5,444개의 데이터를 랜덤 샘플링 (중복없음)\n",
        "    plt.hist(rd_cost19, bins=10, facecolor='blue', histtype='step') #히스토그램 함수, bins:데이터를 범주화 하는 기준\n",
        "    plt.hist(cost0, bins=10, facecolor='red', histtype='step') #히스토그램 함수, bins:데이터를 범주화 하는 기준\n",
        "    plt.show()    \n",
        "    \n",
        "test_median() #함수실행"
      ],
      "execution_count": 12,
      "outputs": [
        {
          "output_type": "stream",
          "text": [
            "train19_median : 0.0296\n",
            "train0_median : 0.0469\n",
            "\n",
            "\n",
            "Train19_Cost Metric\n",
            "       Train19_Cost\n",
            "count   4955.000000\n",
            "mean       0.031550\n",
            "std        0.009728\n",
            "min        0.014467\n",
            "25%        0.024916\n",
            "50%        0.029558\n",
            "75%        0.036438\n",
            "max        0.094237\n",
            "\n",
            "\n",
            "Train0_Cost Metric\n",
            "       Train0_Cost\n",
            "count   544.000000\n",
            "mean      0.048514\n",
            "std       0.015399\n",
            "min       0.020677\n",
            "25%       0.034884\n",
            "50%       0.046862\n",
            "75%       0.061315\n",
            "max       0.093314\n",
            "\n",
            "\n"
          ],
          "name": "stdout"
        },
        {
          "output_type": "display_data",
          "data": {
            "image/png": "[encoded data removed]",
            "text/plain": [
              "<Figure size 432x288 with 1 Axes>"
            ]
          },
          "metadata": {
            "tags": []
          }
        }
      ]
    },
    {
      "cell_type": "markdown",
      "metadata": {
        "id": "CcBb6GTP-yOe",
        "colab_type": "text"
      },
      "source": [
        "### cost의 중앙값(median)을 임계점으로 설정, 각 그림별 Cost가 임계점보다 높으면 positive(이상), 낮으면 negative(정상)"
      ]
    },
    {
      "cell_type": "code",
      "metadata": {
        "id": "ZeoYR1Af-yOe",
        "colab_type": "code",
        "colab": {
          "base_uri": "https://localhost:8080/",
          "height": 55
        },
        "outputId": "0ff19ee4-6835-421e-8acd-39d6f2adf2b5"
      },
      "source": [
        "# 각 이미지별 cost를 구하여 설정한 임계값으로 조건을 제시한다.\n",
        "all_cost=[]\n",
        "\n",
        "for i in range(all_size):\n",
        "    ind_cost = tf.reduce_mean(tf.pow(X[i]-decoder[i],2))\n",
        "    all_cost.append(ind_cost)\n",
        "    \n",
        "ind_cost = sess.run(all_cost, feed_dict={X:mnist.test.images}) # 텐서플로우 실행하여 Cost값 계산\n",
        "\n",
        "threshold = 0.04  # 설정한 임계값 (선택 가능)\n",
        "\n",
        "y_pred = [] #y_pred list 초기화\n",
        "for i in range(all_size):\n",
        "    if ind_cost[i] > threshold :\n",
        "        y_pred.insert(i, 0) #임계점보다 높으면 positive(이상)\n",
        "    else:\n",
        "        y_pred.insert(i, 1) #임계점보다 낮으면 negative(정상)\n",
        "        \n",
        "print(y_pred[0:100]) #프린트로 값을 확인할 수 있다 (확인용으로 100개만)."
      ],
      "execution_count": 13,
      "outputs": [
        {
          "output_type": "stream",
          "text": [
            "[1, 0, 1, 1, 1, 1, 1, 1, 0, 1, 0, 0, 1, 1, 1, 1, 1, 1, 0, 1, 1, 1, 0, 1, 1, 0, 1, 1, 1, 1, 1, 1, 1, 0, 1, 0, 1, 1, 1, 1, 1, 1, 1, 1, 1, 1, 1, 1, 1, 1, 1, 0, 1, 1, 0, 1, 1, 1, 1, 1, 0, 1, 1, 1, 1, 1, 1, 1, 1, 0, 1, 0, 0, 1, 1, 1, 1, 1, 1, 1, 1, 1, 1, 1, 1, 1, 1, 0, 1, 1, 1, 1, 1, 1, 1, 0, 1, 0, 1, 1]\n"
          ],
          "name": "stdout"
        }
      ]
    },
    {
      "cell_type": "markdown",
      "metadata": {
        "id": "in2W2C8c-yOg",
        "colab_type": "text"
      },
      "source": [
        "## 7.3 Confusion_matrix 계산하기"
      ]
    },
    {
      "cell_type": "code",
      "metadata": {
        "id": "IC8P6fR5-yOh",
        "colab_type": "code",
        "colab": {
          "base_uri": "https://localhost:8080/",
          "height": 532
        },
        "outputId": "47f6c1ab-6c42-4150-9a65-a7f199c1f5a7"
      },
      "source": [
        "cm = tf.confusion_matrix(y_true, y_pred) #confusion_matrix 함수 실행\n",
        "con_mat = sess.run(cm) #텐서플로우 실행 후 con_mat으로 입력\n",
        "    \n",
        "# Print the confusion matrix as text.\n",
        "TP = con_mat[0][0] #둘다 Anomal, 0이며 예측값이 positive(이상값)이다.\n",
        "FN = con_mat[0][1] #실제값과 예측값이 달랐으며, 예측값이 negative(정상값)이다.\n",
        "FP = con_mat[1][0] #실제값과 예측값이 달랐으며, 예측값이 postive(이상값)이다.\n",
        "TN = con_mat[1][1] #둘다 nomal, 1이며 예측값이 negative(정상값)이다.\n",
        "print('\\n',\n",
        "      'TP :', TP, '\\n', \n",
        "      'FN :', FN, '\\n', \n",
        "      'FP :', FP, '\\n', \n",
        "      'TN :', TN, '\\n')\n",
        "\n",
        "Accuracy = (TP+TN)/(TP+FN+FP+TN) #정분류율 : 전체관측치 중 실제값과 예측치가 일치하는 정도\n",
        "print('Accuracy(정분류율=(TP+TN)/(TP+FN+FP+TN)):', '{:.4f}'.format(Accuracy))\n",
        "\n",
        "Error_rate = (FP+FN)/(TP+FN+FP+TN) #오분류율 : 전체 관측치 중 실제값과 예측치가 다른 정보 (1-accuracy)\n",
        "print('Error_rate(오분류율=(FP+FN)/(TP+FN+FP+TN):', '{:.4f}'.format(Error_rate))\n",
        "\n",
        "Precirion = TP/(TP+FP) #정확도 : TRUE로 예측한 관측치 중 실제값이 TRUE인 정도\n",
        "print('Precirion(정확도=TP/(TP+FP)):', '{:.4f}'.format(Precirion))\n",
        "\n",
        "Recall = TP/(TP+FN) #재현율 : 실제값이 TRUE인 관측치 중 예측치가 적중한 정도, 모형의 완정성을 평가함, 민감도\n",
        "print('Recall(재현율,민감도=TP/(TP+FN)):', '{:.4f}'.format(Recall))\n",
        "\n",
        "print('\\n')\n",
        "# Confusion Matrix 표 그리기\n",
        "plt.imshow(con_mat, interpolation='nearest', cmap=plt.cm.Blues)\n",
        "\n",
        "# Plot 구성하기\n",
        "plt.title('Confusion Matrix', fontsize=20) # Plot 이름\n",
        "plt.tight_layout()\n",
        "plt.colorbar()\n",
        "label=[\"Anomal(0)\", \"Nomal(1)\"] # 라벨값\n",
        "tick_marks = np.arange(len(label)) \n",
        "plt.xticks(tick_marks, label)\n",
        "plt.yticks(tick_marks, label)\n",
        "plt.xlabel('Predicted', fontsize=15)\n",
        "plt.ylabel('True', fontsize=15)\n",
        "# 표 안에 숫자 기입하는 방법\n",
        "name = [['TP','FN'], ['FP', 'TN']]\n",
        "thresh = con_mat.max() / 2.\n",
        "for i in range(2):\n",
        "     for j in range(2):\n",
        "        plt.text(j, i, str(name[i][j])+\" = \"+str(con_mat[i, j]),\n",
        "                 horizontalalignment=\"center\",\n",
        "                 color=\"white\" if con_mat[i, j] > thresh else \"black\",\n",
        "                 fontsize=16)\n",
        "    \n",
        "plt.show()"
      ],
      "execution_count": 14,
      "outputs": [
        {
          "output_type": "stream",
          "text": [
            "\n",
            " TP : 43 \n",
            " FN : 42 \n",
            " FP : 132 \n",
            " TN : 783 \n",
            "\n",
            "Accuracy(정분류율=(TP+TN)/(TP+FN+FP+TN)): 0.8260\n",
            "Error_rate(오분류율=(FP+FN)/(TP+FN+FP+TN): 0.1740\n",
            "Precirion(정확도=TP/(TP+FP)): 0.2457\n",
            "Recall(재현율,민감도=TP/(TP+FN)): 0.5059\n",
            "\n",
            "\n"
          ],
          "name": "stdout"
        },
        {
          "output_type": "display_data",
          "data": {
            "image/png": "[encoded data removed]",
            "text/plain": [
              "<Figure size 432x288 with 2 Axes>"
            ]
          },
          "metadata": {
            "tags": []
          }
        }
      ]
    }
  ]
}